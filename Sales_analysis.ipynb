{
 "cells": [
  {
   "cell_type": "code",
   "execution_count": 4,
   "id": "26341129-a420-4ab1-ac54-d8fa2abb7e15",
   "metadata": {},
   "outputs": [
    {
     "name": "stdout",
     "output_type": "stream",
     "text": [
      "Requirement already satisfied: dash in c:\\users\\nec\\anaconda3\\envs\\sales_report-env\\lib\\site-packages (2.18.2)\n",
      "Requirement already satisfied: Flask<3.1,>=1.0.4 in c:\\users\\nec\\anaconda3\\envs\\sales_report-env\\lib\\site-packages (from dash) (3.0.3)\n",
      "Requirement already satisfied: Werkzeug<3.1 in c:\\users\\nec\\anaconda3\\envs\\sales_report-env\\lib\\site-packages (from dash) (3.0.6)\n",
      "Requirement already satisfied: plotly>=5.0.0 in c:\\users\\nec\\anaconda3\\envs\\sales_report-env\\lib\\site-packages (from dash) (5.24.1)\n",
      "Requirement already satisfied: dash-html-components==2.0.0 in c:\\users\\nec\\anaconda3\\envs\\sales_report-env\\lib\\site-packages (from dash) (2.0.0)\n",
      "Requirement already satisfied: dash-core-components==2.0.0 in c:\\users\\nec\\anaconda3\\envs\\sales_report-env\\lib\\site-packages (from dash) (2.0.0)\n",
      "Requirement already satisfied: dash-table==5.0.0 in c:\\users\\nec\\anaconda3\\envs\\sales_report-env\\lib\\site-packages (from dash) (5.0.0)\n",
      "Requirement already satisfied: importlib-metadata in c:\\users\\nec\\anaconda3\\envs\\sales_report-env\\lib\\site-packages (from dash) (7.0.1)\n",
      "Requirement already satisfied: typing-extensions>=4.1.1 in c:\\users\\nec\\anaconda3\\envs\\sales_report-env\\lib\\site-packages (from dash) (4.5.0)\n",
      "Requirement already satisfied: requests in c:\\users\\nec\\anaconda3\\envs\\sales_report-env\\lib\\site-packages (from dash) (2.32.3)\n",
      "Requirement already satisfied: retrying in c:\\users\\nec\\anaconda3\\envs\\sales_report-env\\lib\\site-packages (from dash) (1.3.4)\n",
      "Requirement already satisfied: nest-asyncio in c:\\users\\nec\\anaconda3\\envs\\sales_report-env\\lib\\site-packages (from dash) (1.6.0)\n",
      "Requirement already satisfied: setuptools in c:\\users\\nec\\anaconda3\\envs\\sales_report-env\\lib\\site-packages (from dash) (75.1.0)\n",
      "Requirement already satisfied: Jinja2>=3.1.2 in c:\\users\\nec\\anaconda3\\envs\\sales_report-env\\lib\\site-packages (from Flask<3.1,>=1.0.4->dash) (3.1.4)\n",
      "Requirement already satisfied: itsdangerous>=2.1.2 in c:\\users\\nec\\anaconda3\\envs\\sales_report-env\\lib\\site-packages (from Flask<3.1,>=1.0.4->dash) (2.2.0)\n",
      "Requirement already satisfied: click>=8.1.3 in c:\\users\\nec\\anaconda3\\envs\\sales_report-env\\lib\\site-packages (from Flask<3.1,>=1.0.4->dash) (8.1.7)\n",
      "Requirement already satisfied: blinker>=1.6.2 in c:\\users\\nec\\anaconda3\\envs\\sales_report-env\\lib\\site-packages (from Flask<3.1,>=1.0.4->dash) (1.8.2)\n",
      "Requirement already satisfied: zipp>=0.5 in c:\\users\\nec\\anaconda3\\envs\\sales_report-env\\lib\\site-packages (from importlib-metadata->dash) (3.20.2)\n",
      "Requirement already satisfied: tenacity>=6.2.0 in c:\\users\\nec\\anaconda3\\envs\\sales_report-env\\lib\\site-packages (from plotly>=5.0.0->dash) (9.0.0)\n",
      "Requirement already satisfied: packaging in c:\\users\\nec\\anaconda3\\envs\\sales_report-env\\lib\\site-packages (from plotly>=5.0.0->dash) (24.1)\n",
      "Requirement already satisfied: MarkupSafe>=2.1.1 in c:\\users\\nec\\anaconda3\\envs\\sales_report-env\\lib\\site-packages (from Werkzeug<3.1->dash) (2.1.3)\n",
      "Requirement already satisfied: charset-normalizer<4,>=2 in c:\\users\\nec\\anaconda3\\envs\\sales_report-env\\lib\\site-packages (from requests->dash) (3.3.2)\n",
      "Requirement already satisfied: idna<4,>=2.5 in c:\\users\\nec\\anaconda3\\envs\\sales_report-env\\lib\\site-packages (from requests->dash) (3.7)\n",
      "Requirement already satisfied: urllib3<3,>=1.21.1 in c:\\users\\nec\\anaconda3\\envs\\sales_report-env\\lib\\site-packages (from requests->dash) (2.2.3)\n",
      "Requirement already satisfied: certifi>=2017.4.17 in c:\\users\\nec\\anaconda3\\envs\\sales_report-env\\lib\\site-packages (from requests->dash) (2024.8.30)\n",
      "Requirement already satisfied: six>=1.7.0 in c:\\users\\nec\\anaconda3\\envs\\sales_report-env\\lib\\site-packages (from retrying->dash) (1.16.0)\n",
      "Requirement already satisfied: colorama in c:\\users\\nec\\anaconda3\\envs\\sales_report-env\\lib\\site-packages (from click>=8.1.3->Flask<3.1,>=1.0.4->dash) (0.4.6)\n",
      "Note: you may need to restart the kernel to use updated packages.\n"
     ]
    }
   ],
   "source": [
    "pip install dash"
   ]
  },
  {
   "cell_type": "code",
   "execution_count": 5,
   "id": "aa833979-57af-4232-b7e0-0aa35313284f",
   "metadata": {
    "scrolled": true
   },
   "outputs": [],
   "source": [
    "import numpy as np\n",
    "import pandas as pd\n",
    "import matplotlib.pyplot as plt\n",
    "import seaborn as sns\n",
    "import plotly\n",
    "import plotly.express as px\n",
    "import dash\n",
    "from dash import dcc, html\n",
    "from dash.dependencies import Input, Output\n",
    "import io\n",
    "import base64\n",
    "\n",
    "\n",
    "from sklearn.preprocessing import MinMaxScaler\n",
    "\n",
    "from warnings import filterwarnings\n",
    "filterwarnings('ignore')"
   ]
  },
  {
   "cell_type": "markdown",
   "id": "1d8fa6c4-c9d5-46f4-8bf6-b1d8263bc2aa",
   "metadata": {},
   "source": [
    "# Loading and Understanding Data"
   ]
  },
  {
   "cell_type": "code",
   "execution_count": 6,
   "id": "200588de-c912-4dde-bced-4702d89dc2f7",
   "metadata": {},
   "outputs": [],
   "source": [
    "df = pd.read_csv(\"AusApparalSales4thQrt2020.csv\")"
   ]
  },
  {
   "cell_type": "code",
   "execution_count": 7,
   "id": "c5907f32-7c61-4b80-865c-66fda23de559",
   "metadata": {},
   "outputs": [
    {
     "data": {
      "text/html": [
       "<div>\n",
       "<style scoped>\n",
       "    .dataframe tbody tr th:only-of-type {\n",
       "        vertical-align: middle;\n",
       "    }\n",
       "\n",
       "    .dataframe tbody tr th {\n",
       "        vertical-align: top;\n",
       "    }\n",
       "\n",
       "    .dataframe thead th {\n",
       "        text-align: right;\n",
       "    }\n",
       "</style>\n",
       "<table border=\"1\" class=\"dataframe\">\n",
       "  <thead>\n",
       "    <tr style=\"text-align: right;\">\n",
       "      <th></th>\n",
       "      <th>Date</th>\n",
       "      <th>Time</th>\n",
       "      <th>State</th>\n",
       "      <th>Group</th>\n",
       "      <th>Unit</th>\n",
       "      <th>Sales</th>\n",
       "    </tr>\n",
       "  </thead>\n",
       "  <tbody>\n",
       "    <tr>\n",
       "      <th>0</th>\n",
       "      <td>1-Oct-2020</td>\n",
       "      <td>Morning</td>\n",
       "      <td>WA</td>\n",
       "      <td>Kids</td>\n",
       "      <td>8</td>\n",
       "      <td>20000</td>\n",
       "    </tr>\n",
       "    <tr>\n",
       "      <th>1</th>\n",
       "      <td>1-Oct-2020</td>\n",
       "      <td>Morning</td>\n",
       "      <td>WA</td>\n",
       "      <td>Men</td>\n",
       "      <td>8</td>\n",
       "      <td>20000</td>\n",
       "    </tr>\n",
       "    <tr>\n",
       "      <th>2</th>\n",
       "      <td>1-Oct-2020</td>\n",
       "      <td>Morning</td>\n",
       "      <td>WA</td>\n",
       "      <td>Women</td>\n",
       "      <td>4</td>\n",
       "      <td>10000</td>\n",
       "    </tr>\n",
       "    <tr>\n",
       "      <th>3</th>\n",
       "      <td>1-Oct-2020</td>\n",
       "      <td>Morning</td>\n",
       "      <td>WA</td>\n",
       "      <td>Seniors</td>\n",
       "      <td>15</td>\n",
       "      <td>37500</td>\n",
       "    </tr>\n",
       "    <tr>\n",
       "      <th>4</th>\n",
       "      <td>1-Oct-2020</td>\n",
       "      <td>Afternoon</td>\n",
       "      <td>WA</td>\n",
       "      <td>Kids</td>\n",
       "      <td>3</td>\n",
       "      <td>7500</td>\n",
       "    </tr>\n",
       "  </tbody>\n",
       "</table>\n",
       "</div>"
      ],
      "text/plain": [
       "         Date        Time State     Group  Unit  Sales\n",
       "0  1-Oct-2020     Morning    WA      Kids     8  20000\n",
       "1  1-Oct-2020     Morning    WA       Men     8  20000\n",
       "2  1-Oct-2020     Morning    WA     Women     4  10000\n",
       "3  1-Oct-2020     Morning    WA   Seniors    15  37500\n",
       "4  1-Oct-2020   Afternoon    WA      Kids     3   7500"
      ]
     },
     "execution_count": 7,
     "metadata": {},
     "output_type": "execute_result"
    }
   ],
   "source": [
    "df.head()"
   ]
  },
  {
   "cell_type": "code",
   "execution_count": 8,
   "id": "3657548c-6270-4cd2-8e83-b8e24013e4e6",
   "metadata": {},
   "outputs": [
    {
     "name": "stdout",
     "output_type": "stream",
     "text": [
      "<class 'pandas.core.frame.DataFrame'>\n",
      "RangeIndex: 7560 entries, 0 to 7559\n",
      "Data columns (total 6 columns):\n",
      " #   Column  Non-Null Count  Dtype \n",
      "---  ------  --------------  ----- \n",
      " 0   Date    7560 non-null   object\n",
      " 1   Time    7560 non-null   object\n",
      " 2   State   7560 non-null   object\n",
      " 3   Group   7560 non-null   object\n",
      " 4   Unit    7560 non-null   int64 \n",
      " 5   Sales   7560 non-null   int64 \n",
      "dtypes: int64(2), object(4)\n",
      "memory usage: 354.5+ KB\n"
     ]
    }
   ],
   "source": [
    "# checking info of the dataset\n",
    "df.info()"
   ]
  },
  {
   "cell_type": "markdown",
   "id": "0826eeef-12e2-4eed-807d-764015ff7bd5",
   "metadata": {},
   "source": [
    "# Data Wrangling"
   ]
  },
  {
   "cell_type": "code",
   "execution_count": 9,
   "id": "0f8356a8-e952-4e11-9f7e-ad0bfae7ed0f",
   "metadata": {},
   "outputs": [],
   "source": [
    "# Fucntion to check missing values\n",
    "def check_missing_values(data):\n",
    "    \"\"\"\n",
    "    Check for missing values in the dataset and return a summary.\n",
    "    \"\"\"\n",
    "    missing_summary = data.isna().sum()\n",
    "    print(\"Missing Values Summary:\")\n",
    "    return missing_summary"
   ]
  },
  {
   "cell_type": "code",
   "execution_count": 10,
   "id": "4f099e04-ec14-46b8-bf1d-056d18db1154",
   "metadata": {},
   "outputs": [
    {
     "name": "stdout",
     "output_type": "stream",
     "text": [
      "Missing Values Summary:\n"
     ]
    },
    {
     "data": {
      "text/plain": [
       "Date     0\n",
       "Time     0\n",
       "State    0\n",
       "Group    0\n",
       "Unit     0\n",
       "Sales    0\n",
       "dtype: int64"
      ]
     },
     "execution_count": 10,
     "metadata": {},
     "output_type": "execute_result"
    }
   ],
   "source": [
    "check_missing_values(df)"
   ]
  },
  {
   "cell_type": "markdown",
   "id": "5d9e8772-5e45-4c19-a4b7-e1fa44c3126c",
   "metadata": {},
   "source": [
    "We can clearly see that there are no missing values in the dataset"
   ]
  },
  {
   "cell_type": "markdown",
   "id": "d3c93a6d-d640-41ad-97a8-9cb59e6258d9",
   "metadata": {},
   "source": [
    "### b. Normalizing the Data"
   ]
  },
  {
   "cell_type": "code",
   "execution_count": 11,
   "id": "0a8d62b4-31ad-4827-adc9-1f08127f82c2",
   "metadata": {},
   "outputs": [],
   "source": [
    "def normalize_data(data, columns_to_normalize):\n",
    "    \"\"\"\n",
    "    Normalize the specified columns of the dataset using Min-Max Scaling.\n",
    "    \n",
    "    Args:\n",
    "        data (pd.DataFrame): The input DataFrame.\n",
    "        columns_to_normalize (list): List of column names to normalize.\n",
    "    \n",
    "    Returns:\n",
    "        pd.DataFrame: DataFrame with normalized columns.\n",
    "    \"\"\"\n",
    "    scaler = MinMaxScaler()\n",
    "    data_normalized = data.copy()\n",
    "    \n",
    "    # Apply Min-Max Scaling to the selected columns\n",
    "    data_normalized[columns_to_normalize] = scaler.fit_transform(data[columns_to_normalize])\n",
    "    \n",
    "    print(\"\\nNormalized Data Sample:\")\n",
    "    print(data_normalized.head())\n",
    "    \n",
    "    return data_normalized"
   ]
  },
  {
   "cell_type": "code",
   "execution_count": 12,
   "id": "a939feb6-0bc4-4a3b-9895-65746284180a",
   "metadata": {},
   "outputs": [
    {
     "name": "stdout",
     "output_type": "stream",
     "text": [
      "\n",
      "Normalized Data Sample:\n",
      "         Date        Time State     Group      Unit     Sales\n",
      "0  1-Oct-2020     Morning    WA      Kids  0.095238  0.095238\n",
      "1  1-Oct-2020     Morning    WA       Men  0.095238  0.095238\n",
      "2  1-Oct-2020     Morning    WA     Women  0.031746  0.031746\n",
      "3  1-Oct-2020     Morning    WA   Seniors  0.206349  0.206349\n",
      "4  1-Oct-2020   Afternoon    WA      Kids  0.015873  0.015873\n"
     ]
    }
   ],
   "source": [
    "columns_to_normalize = [\"Unit\", \"Sales\"]  # Specifying columns to normalize\n",
    "data_normalized = normalize_data(df, columns_to_normalize)"
   ]
  },
  {
   "cell_type": "markdown",
   "id": "2e60cd53-0b0d-404e-9214-58e98f7c577f",
   "metadata": {},
   "source": [
    "# Data Analysis"
   ]
  },
  {
   "cell_type": "markdown",
   "id": "6f4503f4-e653-45bd-a567-6ff5a8937250",
   "metadata": {},
   "source": [
    "### a. Description Statistical summary of the data"
   ]
  },
  {
   "cell_type": "code",
   "execution_count": 13,
   "id": "0edc450d-c1fa-4478-a0eb-8757d3a86dd7",
   "metadata": {},
   "outputs": [
    {
     "data": {
      "text/html": [
       "<div>\n",
       "<style scoped>\n",
       "    .dataframe tbody tr th:only-of-type {\n",
       "        vertical-align: middle;\n",
       "    }\n",
       "\n",
       "    .dataframe tbody tr th {\n",
       "        vertical-align: top;\n",
       "    }\n",
       "\n",
       "    .dataframe thead th {\n",
       "        text-align: right;\n",
       "    }\n",
       "</style>\n",
       "<table border=\"1\" class=\"dataframe\">\n",
       "  <thead>\n",
       "    <tr style=\"text-align: right;\">\n",
       "      <th></th>\n",
       "      <th>count</th>\n",
       "      <th>mean</th>\n",
       "      <th>std</th>\n",
       "      <th>min</th>\n",
       "      <th>25%</th>\n",
       "      <th>50%</th>\n",
       "      <th>75%</th>\n",
       "      <th>max</th>\n",
       "    </tr>\n",
       "  </thead>\n",
       "  <tbody>\n",
       "    <tr>\n",
       "      <th>Unit</th>\n",
       "      <td>7560.0</td>\n",
       "      <td>0.254054</td>\n",
       "      <td>0.204784</td>\n",
       "      <td>0.0</td>\n",
       "      <td>0.095238</td>\n",
       "      <td>0.190476</td>\n",
       "      <td>0.380952</td>\n",
       "      <td>1.0</td>\n",
       "    </tr>\n",
       "    <tr>\n",
       "      <th>Sales</th>\n",
       "      <td>7560.0</td>\n",
       "      <td>0.254054</td>\n",
       "      <td>0.204784</td>\n",
       "      <td>0.0</td>\n",
       "      <td>0.095238</td>\n",
       "      <td>0.190476</td>\n",
       "      <td>0.380952</td>\n",
       "      <td>1.0</td>\n",
       "    </tr>\n",
       "  </tbody>\n",
       "</table>\n",
       "</div>"
      ],
      "text/plain": [
       "        count      mean       std  min       25%       50%       75%  max\n",
       "Unit   7560.0  0.254054  0.204784  0.0  0.095238  0.190476  0.380952  1.0\n",
       "Sales  7560.0  0.254054  0.204784  0.0  0.095238  0.190476  0.380952  1.0"
      ]
     },
     "execution_count": 13,
     "metadata": {},
     "output_type": "execute_result"
    }
   ],
   "source": [
    "data_normalized.describe().T"
   ]
  },
  {
   "cell_type": "code",
   "execution_count": 14,
   "id": "6971fc7e-1df8-4c25-85f7-478c47dfa948",
   "metadata": {},
   "outputs": [
    {
     "data": {
      "text/html": [
       "<div>\n",
       "<style scoped>\n",
       "    .dataframe tbody tr th:only-of-type {\n",
       "        vertical-align: middle;\n",
       "    }\n",
       "\n",
       "    .dataframe tbody tr th {\n",
       "        vertical-align: top;\n",
       "    }\n",
       "\n",
       "    .dataframe thead th {\n",
       "        text-align: right;\n",
       "    }\n",
       "</style>\n",
       "<table border=\"1\" class=\"dataframe\">\n",
       "  <thead>\n",
       "    <tr style=\"text-align: right;\">\n",
       "      <th></th>\n",
       "      <th>count</th>\n",
       "      <th>unique</th>\n",
       "      <th>top</th>\n",
       "      <th>freq</th>\n",
       "    </tr>\n",
       "  </thead>\n",
       "  <tbody>\n",
       "    <tr>\n",
       "      <th>Date</th>\n",
       "      <td>7560</td>\n",
       "      <td>90</td>\n",
       "      <td>1-Oct-2020</td>\n",
       "      <td>84</td>\n",
       "    </tr>\n",
       "    <tr>\n",
       "      <th>Time</th>\n",
       "      <td>7560</td>\n",
       "      <td>3</td>\n",
       "      <td>Morning</td>\n",
       "      <td>2520</td>\n",
       "    </tr>\n",
       "    <tr>\n",
       "      <th>State</th>\n",
       "      <td>7560</td>\n",
       "      <td>7</td>\n",
       "      <td>WA</td>\n",
       "      <td>1080</td>\n",
       "    </tr>\n",
       "    <tr>\n",
       "      <th>Group</th>\n",
       "      <td>7560</td>\n",
       "      <td>4</td>\n",
       "      <td>Kids</td>\n",
       "      <td>1890</td>\n",
       "    </tr>\n",
       "  </tbody>\n",
       "</table>\n",
       "</div>"
      ],
      "text/plain": [
       "      count unique         top  freq\n",
       "Date   7560     90  1-Oct-2020    84\n",
       "Time   7560      3     Morning  2520\n",
       "State  7560      7          WA  1080\n",
       "Group  7560      4        Kids  1890"
      ]
     },
     "execution_count": 14,
     "metadata": {},
     "output_type": "execute_result"
    }
   ],
   "source": [
    "data_normalized.describe(include = 'object').T"
   ]
  },
  {
   "cell_type": "markdown",
   "id": "7deb95d8-a357-4021-882c-2386861c987c",
   "metadata": {},
   "source": [
    "### Data Insights and Explanation\n",
    "\n",
    "#### Numerical Data Summary\n",
    "- **Count**: Both `Unit` and `Sales` have 7560 entries, meaning there are no missing values in these columns.\n",
    "- **Mean and Distribution**: The average (`mean`) value for both `Unit` and `Sales` is `0.254`. With a standard deviation of `0.2048`, the data is moderately spread around the mean. The values range from `0.0` to `1.0`, suggesting that the data might be normalized or scaled.\n",
    "- **Quartiles**: Most of the data lies between `0.095` (25th percentile) and `0.381` (75th percentile), showing a right-skewed distribution with lower values being more frequent.\n",
    "\n",
    "---\n",
    "\n",
    "#### Categorical Data Summary\n",
    "- **Date**: The dataset spans 90 unique dates, with `1-Oct-2020` appearing most frequently (84 times). This might indicate a significant event or peak activity on this date.\n",
    "- **Time**: There are three time categories, with `Morning` being the most common (2520 entries). This suggests that most activities occurred during the morning hours.\n",
    "- **State**: Seven states are represented, with `WA` being the most frequent (1080 entries). This could indicate that the dataset is focused on or has a bias toward activity in Washington.\n",
    "- **Group**: Four groups are present, and `Kids` is the largest category (1890 entries), suggesting a focus or higher participation from the \"Kids\" group.\n",
    "\n",
    "---\n",
    "\n",
    "#### Insights\n",
    "1. **Numerical Data**: The similarity in the statistics for `Unit` and `Sales` implies a potential relationship between the two columns. The distribution indicates that lower values are more common, with occasional higher values pushing the max to `1.0`.\n",
    "2. **Categorical Data**:\n",
    "   - The dominance of `Morning`, `WA`, and the `Kids` group might highlight specific trends or patterns in the dataset.\n",
    "   - The frequent occurrence of `1-Oct-2020` might require further investigation to understand what caused this spike.\n"
   ]
  },
  {
   "cell_type": "code",
   "execution_count": null,
   "id": "9ddee2b2-7461-4b15-b16e-83d343d8b7d2",
   "metadata": {},
   "outputs": [],
   "source": []
  },
  {
   "cell_type": "markdown",
   "id": "8aaeee45-4117-464e-8087-65d911a3354a",
   "metadata": {},
   "source": [
    "### Identify highest sales group by lowest"
   ]
  },
  {
   "cell_type": "code",
   "execution_count": 15,
   "id": "d53d651d-d8f8-48b7-b81a-1b443c280042",
   "metadata": {},
   "outputs": [
    {
     "name": "stdout",
     "output_type": "stream",
     "text": [
      "Group with the Highest Sales:  Men (85750000)\n",
      "Group with the Lowest Sales:  Seniors (84037500)\n"
     ]
    },
    {
     "data": {
      "text/plain": [
       "(' Men', ' Seniors')"
      ]
     },
     "execution_count": 15,
     "metadata": {},
     "output_type": "execute_result"
    }
   ],
   "source": [
    "def identify_highest_lowest_sales_group(data):\n",
    "    \"\"\"\n",
    "    Identify the group with the highest and lowest total sales.\n",
    "    \n",
    "    Args:\n",
    "        data (pd.DataFrame): The input DataFrame.\n",
    "    \n",
    "    Returns:\n",
    "        tuple: Group with highest sales, Group with lowest sales\n",
    "    \"\"\"\n",
    "    # Group by 'Group' and sum the 'Sales' for each group\n",
    "    sales_by_group = df.groupby('Group')['Sales'].sum()\n",
    "    \n",
    "    # Identify the group with the highest and lowest sales\n",
    "    highest_sales_group = sales_by_group.idxmax()\n",
    "    lowest_sales_group = sales_by_group.idxmin()\n",
    "    \n",
    "    highest_sales_value = sales_by_group.max()\n",
    "    lowest_sales_value = sales_by_group.min()\n",
    "    \n",
    "    print(f\"Group with the Highest Sales: {highest_sales_group} ({highest_sales_value})\")\n",
    "    print(f\"Group with the Lowest Sales: {lowest_sales_group} ({lowest_sales_value})\")\n",
    "    \n",
    "    return highest_sales_group, lowest_sales_group\n",
    "\n",
    "\n",
    "identify_highest_lowest_sales_group(normalize_data)"
   ]
  },
  {
   "cell_type": "markdown",
   "id": "3abebccf-8c1f-41f0-96f1-dd0cfcc6c281",
   "metadata": {},
   "source": [
    "#### Group Sales Insights\n",
    "\n",
    "- **Men**: The group with the highest sales, generating a total of 85,750,000 in sales. This indicates a strong demand for men's clothing.\n",
    "- **Seniors**: The group with the lowest sales, totaling 84,037,500. This suggests that sales in this demographic are comparatively lower, possibly due to lower demand or limited product offerings for seniors.\n"
   ]
  },
  {
   "cell_type": "code",
   "execution_count": null,
   "id": "38d859d8-7dfb-404b-9414-a776480ec3d8",
   "metadata": {},
   "outputs": [],
   "source": []
  },
  {
   "cell_type": "markdown",
   "id": "0ed94d23-dd4f-49b5-ad06-f7e09e337719",
   "metadata": {},
   "source": [
    "### c. Generating Weekly, Monthly, and Quarterly Reports"
   ]
  },
  {
   "cell_type": "code",
   "execution_count": 16,
   "id": "de46d302-2ad0-4882-9636-3167afd61d98",
   "metadata": {},
   "outputs": [
    {
     "data": {
      "text/html": [
       "<div>\n",
       "<style scoped>\n",
       "    .dataframe tbody tr th:only-of-type {\n",
       "        vertical-align: middle;\n",
       "    }\n",
       "\n",
       "    .dataframe tbody tr th {\n",
       "        vertical-align: top;\n",
       "    }\n",
       "\n",
       "    .dataframe thead th {\n",
       "        text-align: right;\n",
       "    }\n",
       "</style>\n",
       "<table border=\"1\" class=\"dataframe\">\n",
       "  <thead>\n",
       "    <tr style=\"text-align: right;\">\n",
       "      <th></th>\n",
       "      <th>Date</th>\n",
       "      <th>Time</th>\n",
       "      <th>State</th>\n",
       "      <th>Group</th>\n",
       "      <th>Unit</th>\n",
       "      <th>Sales</th>\n",
       "    </tr>\n",
       "  </thead>\n",
       "  <tbody>\n",
       "    <tr>\n",
       "      <th>0</th>\n",
       "      <td>1-Oct-2020</td>\n",
       "      <td>Morning</td>\n",
       "      <td>WA</td>\n",
       "      <td>Kids</td>\n",
       "      <td>0.095238</td>\n",
       "      <td>0.095238</td>\n",
       "    </tr>\n",
       "    <tr>\n",
       "      <th>1</th>\n",
       "      <td>1-Oct-2020</td>\n",
       "      <td>Morning</td>\n",
       "      <td>WA</td>\n",
       "      <td>Men</td>\n",
       "      <td>0.095238</td>\n",
       "      <td>0.095238</td>\n",
       "    </tr>\n",
       "    <tr>\n",
       "      <th>2</th>\n",
       "      <td>1-Oct-2020</td>\n",
       "      <td>Morning</td>\n",
       "      <td>WA</td>\n",
       "      <td>Women</td>\n",
       "      <td>0.031746</td>\n",
       "      <td>0.031746</td>\n",
       "    </tr>\n",
       "    <tr>\n",
       "      <th>3</th>\n",
       "      <td>1-Oct-2020</td>\n",
       "      <td>Morning</td>\n",
       "      <td>WA</td>\n",
       "      <td>Seniors</td>\n",
       "      <td>0.206349</td>\n",
       "      <td>0.206349</td>\n",
       "    </tr>\n",
       "    <tr>\n",
       "      <th>4</th>\n",
       "      <td>1-Oct-2020</td>\n",
       "      <td>Afternoon</td>\n",
       "      <td>WA</td>\n",
       "      <td>Kids</td>\n",
       "      <td>0.015873</td>\n",
       "      <td>0.015873</td>\n",
       "    </tr>\n",
       "  </tbody>\n",
       "</table>\n",
       "</div>"
      ],
      "text/plain": [
       "         Date        Time State     Group      Unit     Sales\n",
       "0  1-Oct-2020     Morning    WA      Kids  0.095238  0.095238\n",
       "1  1-Oct-2020     Morning    WA       Men  0.095238  0.095238\n",
       "2  1-Oct-2020     Morning    WA     Women  0.031746  0.031746\n",
       "3  1-Oct-2020     Morning    WA   Seniors  0.206349  0.206349\n",
       "4  1-Oct-2020   Afternoon    WA      Kids  0.015873  0.015873"
      ]
     },
     "execution_count": 16,
     "metadata": {},
     "output_type": "execute_result"
    }
   ],
   "source": [
    "data_normalized.head()"
   ]
  },
  {
   "cell_type": "code",
   "execution_count": 17,
   "id": "041758e9-7467-4f85-be9b-ad109d546e06",
   "metadata": {
    "scrolled": true
   },
   "outputs": [
    {
     "name": "stdout",
     "output_type": "stream",
     "text": [
      "\n",
      "Weekly Sales Report:\n",
      "Date\n",
      "2020-10-04     84.857143\n",
      "2020-10-11    152.777778\n",
      "2020-10-18    150.476190\n",
      "2020-10-25    151.587302\n",
      "2020-11-01    122.460317\n",
      "2020-11-08    113.809524\n",
      "2020-11-15    115.761905\n",
      "2020-11-22    115.380952\n",
      "2020-11-29    117.698413\n",
      "2020-12-06    169.412698\n",
      "2020-12-13    181.492063\n",
      "2020-12-20    182.317460\n",
      "2020-12-27    183.047619\n",
      "2021-01-03     79.571429\n",
      "Freq: W-SUN, Name: Sales, dtype: float64\n",
      "\n",
      "Monthly Sales Report:\n",
      "Date\n",
      "2020-10-31    645.650794\n",
      "2020-11-30    495.761905\n",
      "2020-12-31    779.238095\n",
      "Freq: M, Name: Sales, dtype: float64\n",
      "\n",
      "Quarterly Sales Report:\n",
      "Date\n",
      "2020-12-31    1920.650794\n",
      "Freq: Q-DEC, Name: Sales, dtype: float64\n"
     ]
    }
   ],
   "source": [
    "def generate_time_period_reports(data):\n",
    "    \"\"\"\n",
    "    Generate weekly, monthly, and quarterly reports based on the sales data.\n",
    "    \n",
    "    Args:\n",
    "        data (pd.DataFrame): The input DataFrame.\n",
    "    \n",
    "    Returns:\n",
    "        tuple: Weekly, Monthly, and Quarterly reports DataFrames.\n",
    "    \"\"\"\n",
    "    # Converting 'Date' column to datetime format\n",
    "    data['Date'] = pd.to_datetime(data['Date'], format='%d-%b-%Y')\n",
    "    \n",
    "    # Setting the 'Date' column as the index for easier resampling\n",
    "    data.set_index('Date', inplace=True)\n",
    "    \n",
    "    # Weekly report: Aggregating sales by week\n",
    "    weekly_report = data.resample('W')['Sales'].sum()\n",
    "    \n",
    "    # Monthly report: Aggregating sales by month\n",
    "    monthly_report = data.resample('M')['Sales'].sum()\n",
    "    \n",
    "    # Quarterly report: Aggregating sales by quarter\n",
    "    quarterly_report = data.resample('Q')['Sales'].sum()\n",
    "    \n",
    "    # Printing the reports\n",
    "    print(\"\\nWeekly Sales Report:\")\n",
    "    print(weekly_report)\n",
    "    \n",
    "    print(\"\\nMonthly Sales Report:\")\n",
    "    print(monthly_report)\n",
    "    \n",
    "    print(\"\\nQuarterly Sales Report:\")\n",
    "    print(quarterly_report)\n",
    "    \n",
    "    return weekly_report, monthly_report, quarterly_report\n",
    "\n",
    "weekly_report, monthly_report, quarterly_report = generate_time_period_reports(data_normalized)"
   ]
  },
  {
   "cell_type": "markdown",
   "id": "de6fb11a-cb7e-41d2-8990-e9c29f79706b",
   "metadata": {},
   "source": [
    "#### Weekly Sales Report\n",
    "\n",
    "The weekly sales report shows significant fluctuations in sales:\n",
    "- **Highest sales**: Last week of December (2020-12-27) at **31.77 million**, reflecting a surge in year-end shopping.\n",
    "- **Lowest sales**: First week of January (2021-01-03) at **13.79 million**, possibly due to a post-holiday slowdown.\n",
    "\n",
    "#### Monthly Sales Report\n",
    "\n",
    "The monthly sales report indicates a steady decline in sales over three months:\n",
    "- **October**: Highest sales at **114.29 million**.\n",
    "- **November**: **90.68 million**.\n",
    "- **December**: **135.33 million**, suggesting a drop in sales before the holiday season peaked.\n",
    "\n",
    "#### Quarterly Sales Report\n",
    "\n",
    "The quarterly report shows:\n",
    "- **Total sales in Q4 2020**: **340.3 million**.\n",
    "- Highlights the strong sales performance during the holiday season, contributing to a substantial portion of the year’s revenue.\n",
    "\n",
    "#### Insights\n",
    "\n",
    "These trends suggest:\n",
    "- **Targeted promotions**: In low-performing months.\n",
    "- **Emphasis**: On high sales weeks leading up to the holidays.\n"
   ]
  },
  {
   "cell_type": "code",
   "execution_count": null,
   "id": "759c0569-481b-4f4e-bc85-5972ce6c86f9",
   "metadata": {},
   "outputs": [],
   "source": []
  },
  {
   "cell_type": "markdown",
   "id": "c0175fb5-29ad-4451-9707-1d241af9bfe5",
   "metadata": {},
   "source": [
    "# Data Visualization"
   ]
  },
  {
   "cell_type": "code",
   "execution_count": 18,
   "id": "695fabb4-e6b6-4d43-a582-83310e0a1b41",
   "metadata": {},
   "outputs": [
    {
     "data": {
      "text/html": [
       "\n",
       "        <iframe\n",
       "            width=\"100%\"\n",
       "            height=\"650\"\n",
       "            src=\"http://127.0.0.1:8050/\"\n",
       "            frameborder=\"0\"\n",
       "            allowfullscreen\n",
       "            \n",
       "        ></iframe>\n",
       "        "
      ],
      "text/plain": [
       "<IPython.lib.display.IFrame at 0x19b29e7aeb0>"
      ]
     },
     "metadata": {},
     "output_type": "display_data"
    }
   ],
   "source": [
    "# Initializing Dash app\n",
    "app = dash.Dash(__name__)\n",
    "\n",
    "# 1. State-wise sales analysis for different demographic groups\n",
    "state_group_sales = data_normalized.groupby(['State', 'Group'])['Sales'].sum().reset_index()\n",
    "fig1 = px.bar(state_group_sales, x='State', y='Sales', color='Group', \n",
    "              title=\"State-wise Sales Analysis for Different Demographic Groups\", \n",
    "              labels={\"Sales\": \"Total Sales\", \"State\": \"State\", \"Group\": \"Demographic Group\"})\n",
    "\n",
    "# 2. Group-wise sales analysis across various states\n",
    "group_state_sales = data_normalized.groupby(['Group', 'State'])['Sales'].sum().reset_index()\n",
    "fig2 = px.bar(group_state_sales, x='Group', y='Sales', color='State', \n",
    "              title=\"Group-wise Sales Analysis Across States\", \n",
    "              labels={\"Sales\": \"Total Sales\", \"Group\": \"Demographic Group\", \"State\": \"State\"})\n",
    "\n",
    "# 3. Time-of-the-day analysis: peak and off-peak sales periods\n",
    "time_of_day_sales = data_normalized.groupby('Time')['Sales'].sum().reset_index()\n",
    "fig3 = px.line(time_of_day_sales, x='Time', y='Sales', \n",
    "               title=\"Time-of-the-Day Sales Analysis\", \n",
    "               labels={\"Sales\": \"Total Sales\", \"Time\": \"Time of the Day\"})\n",
    "\n",
    "charts = {}\n",
    "\n",
    "# Daily Sales Trend (Seaborn plot converted to Plotly)\n",
    "daily_sales = data_normalized['Sales'].resample('D').sum()\n",
    "\n",
    "plt.figure(figsize=(10, 6))\n",
    "sns.lineplot(x=daily_sales.index, y=daily_sales.values, label='Daily Sales', color='blue')\n",
    "plt.title('Daily Sales Trend', fontsize=16)\n",
    "plt.xlabel('Date', fontsize=12)\n",
    "plt.ylabel('Sales', fontsize=12)\n",
    "plt.xticks(rotation=45)\n",
    "plt.tight_layout()\n",
    "img = io.BytesIO()\n",
    "plt.savefig(img, format='png')\n",
    "plt.close()\n",
    "img.seek(0)\n",
    "charts['daily'] = base64.b64encode(img.getvalue()).decode('utf-8')\n",
    "\n",
    "# Weekly Sales Trend (Seaborn plot converted to Plotly)\n",
    "weekly_sales = data_normalized['Sales'].resample('W').sum()\n",
    "\n",
    "plt.figure(figsize=(10, 6))\n",
    "sns.lineplot(x=weekly_sales.index, y=weekly_sales.values, label='Weekly Sales', color='green')\n",
    "plt.title('Weekly Sales Trend', fontsize=16)\n",
    "plt.xlabel('Week', fontsize=12)\n",
    "plt.ylabel('Sales', fontsize=12)\n",
    "plt.xticks(rotation=45)\n",
    "plt.tight_layout()\n",
    "img = io.BytesIO()\n",
    "plt.savefig(img, format='png')\n",
    "plt.close()\n",
    "img.seek(0)\n",
    "charts['weekly'] = base64.b64encode(img.getvalue()).decode('utf-8')\n",
    "\n",
    "# Monthly Sales Trend (Seaborn plot converted to Plotly)\n",
    "monthly_sales = data_normalized['Sales'].resample('M').sum()\n",
    "\n",
    "plt.figure(figsize=(10, 6))\n",
    "sns.lineplot(x=monthly_sales.index, y=monthly_sales.values, label='Monthly Sales', color='orange')\n",
    "plt.title('Monthly Sales Trend', fontsize=16)\n",
    "plt.xlabel('Month', fontsize=12)\n",
    "plt.ylabel('Sales', fontsize=12)\n",
    "plt.xticks(rotation=45)\n",
    "plt.tight_layout()\n",
    "img = io.BytesIO()\n",
    "plt.savefig(img, format='png')\n",
    "plt.close()\n",
    "img.seek(0)\n",
    "charts['monthly'] = base64.b64encode(img.getvalue()).decode('utf-8')\n",
    "\n",
    "# Layout of the Dash app\n",
    "app.layout = html.Div([\n",
    "    html.H1(\"Sales and Marketing Dashboard\"),\n",
    "    html.Div([\n",
    "        html.H3(\"State-wise Sales Analysis for Different Demographic Groups\"),\n",
    "        dcc.Graph(figure=fig1)\n",
    "    ]),\n",
    "    html.Div([\n",
    "        html.H3(\"Group-wise Sales Analysis Across States\"),\n",
    "        dcc.Graph(figure=fig2)\n",
    "    ]),\n",
    "    html.Div([\n",
    "        html.H3(\"Time-of-the-Day Sales Analysis\"),\n",
    "        dcc.Graph(figure=fig3)\n",
    "    ]),\n",
    "    html.Div([\n",
    "        html.H3(\"Daily Sales Trend\"),\n",
    "        html.Img(src=f\"data:image/png;base64,{charts['daily']}\")\n",
    "    ]),\n",
    "    html.Div([\n",
    "        html.H3(\"Weekly Sales Trend\"),\n",
    "        html.Img(src=f\"data:image/png;base64,{charts['weekly']}\")\n",
    "    ]),\n",
    "    html.Div([\n",
    "        html.H3(\"Monthly Sales Trend\"),\n",
    "        html.Img(src=f\"data:image/png;base64,{charts['monthly']}\")\n",
    "    ])\n",
    "])\n",
    "\n",
    "# Running the app\n",
    "if __name__ == '__main__':\n",
    "    app.run_server(debug=True)"
   ]
  },
  {
   "cell_type": "markdown",
   "id": "b0226faf-5499-438a-bfbc-c040b83d520a",
   "metadata": {},
   "source": [
    "### Final Analysis Report with Recommendations\n",
    "\n",
    "#### 1. **State-wise Sales Analysis for Different Demographic Groups (Kids, Men, Women, Seniors)**\n",
    "\n",
    "**Graph Description:**  \n",
    "This bar chart provides a state-wise breakdown of total sales across various demographic groups: Kids, Men, Women, and Seniors. It shows the contribution of each demographic group to the total sales in different states such as Victoria (VIC), New South Wales (NSW), Northern Territory (NT), Tasmania (TAS), Queensland (QLD), South Australia (SA), and Western Australia (WA).\n",
    "\n",
    "**Key Insights:**\n",
    "- **Victoria (VIC)** leads in total sales across all demographics, followed by **New South Wales (NSW)**.\n",
    "- **Northern Territory (NT)** and **Tasmania (TAS)** have the lowest total sales figures.\n",
    "- **Kids** and **Men** are the dominant demographic groups contributing to sales, while **Seniors** and **Women** have relatively smaller contributions across all states.\n",
    "- States like **VIC** and **NSW** contribute significantly to sales, while **NT** and **TAS** show weaker performance, indicating a potential area for sales growth.\n",
    "\n",
    "**Recommendations:**\n",
    "- **Focus on Growth in NT and TAS:** Given the lower sales in NT and TAS, targeted sales programs focusing on these regions could help boost revenue. Specific promotions or localized marketing strategies might increase engagement with these regions.\n",
    "- **Boost Female and Senior Sales:** While Men and Kids are strong performers, there is potential to increase the contribution of Women and Seniors. Special offers or tailored product lines for these groups could help increase sales.\n",
    "\n",
    "#### 2. **Group-wise Sales Analysis Across Various States (Kids, Men, Seniors, Women)**\n",
    "\n",
    "**Graph Description:**  \n",
    "This grouped bar chart shows sales by demographic groups (Kids, Men, Women, Seniors) across different states. The height of each bar represents the total sales of each demographic, while the color within each bar represents the contribution of different states.\n",
    "\n",
    "**Key Insights:**\n",
    "- **Kids** and **Men** consistently show the highest sales figures across all states, with **VIC** contributing the largest share in every group.\n",
    "- **NT** and **TAS** contribute the least across all groups, confirming the trend observed in the state-wise analysis.\n",
    "- The **Seniors** and **Women** groups, while showing moderate sales, could benefit from targeted strategies to increase engagement.\n",
    "\n",
    "**Recommendations:**\n",
    "- **State-Specific Strategies for Demographic Groups:** Given that VIC contributes the most in every demographic group, more localized campaigns tailored to specific states, especially NT and TAS, could potentially improve the performance of those regions.\n",
    "- **Explore Product Expansion for Women and Seniors:** Launching targeted campaigns or product lines aimed at **Women** and **Seniors** could help tap into these underperforming demographic groups.\n",
    "\n",
    "#### 3. **Time-of-the-Day Sales Analysis (Morning, Afternoon, Evening)**\n",
    "\n",
    "**Graph Description:**  \n",
    "This line plot illustrates the total sales distribution over different times of the day: Morning, Afternoon, and Evening. It shows that sales peak in the **Morning** and **Afternoon**, with a noticeable dip during the **Evening**.\n",
    "\n",
    "**Key Insights:**\n",
    "- The **Morning** and **Afternoon** are the peak sales periods, while the **Evening** sees a noticeable drop in sales.\n",
    "- This pattern indicates that customer activity tends to decrease in the evening, possibly due to other factors like time of day or availability.\n",
    "\n",
    "**Recommendations:**\n",
    "- **Leverage Peak Sales Hours for Promotions:** Since the Morning and Afternoon have higher sales, sales campaigns or promotions should be concentrated during these periods to maximize revenue.\n",
    "- **Evening Promotions or Offers:** Consider introducing targeted promotions in the Evening to try and stimulate sales, such as discounts or limited-time offers.\n",
    "\n",
    "#### 4. **Daily Sales Trend (October 2020 to January 2021)**\n",
    "\n",
    "**Graph Description:**  \n",
    "This line plot displays the daily sales trend, showing fluctuations over time. Initially, sales are relatively stable around 4 million but experience a sharp drop in early November. After the drop, sales stabilize around 3.5 million and show a strong upward trend in early December.\n",
    "\n",
    "**Key Insights:**\n",
    "- **Sharp Drop in November:** The drop in early November could indicate an anomaly or a seasonal dip in sales.\n",
    "- **Recovery in December:** Sales recover towards the end of November and peak in early December, indicating a rebound or the impact of holiday-related sales.\n",
    "\n",
    "**Recommendations:**\n",
    "- **Analyze November Dip:** Investigate the cause of the November sales dip. Was it due to market conditions, external events, or internal factors? Understanding this could help avoid future dips.\n",
    "- **Capitalize on the December Surge:** Given the sharp recovery in December, capitalizing on this trend with strategic promotions or stock management can further boost sales during this period.\n",
    "\n",
    "#### 5. **Weekly Sales Trend (October 2020 to January 2021)**\n",
    "\n",
    "**Graph Description:**  \n",
    "The weekly sales trend shows fluctuations with sales peaking at over 2.5 million by mid-October. A slight decline follows in early November, with a surge in December and a sharp drop at the end of the period.\n",
    "\n",
    "**Key Insights:**\n",
    "- **Sales Surge in December:** December shows the highest peak in weekly sales, aligning with typical holiday season peaks.\n",
    "- **Fluctuations in October and November:** Sales stabilize and dip between October and November, showing less consistency before the year-end surge.\n",
    "\n",
    "**Recommendations:**\n",
    "- **Prepare for Seasonal Peaks:** Use insights from December's sales surge to plan for future holiday seasons, ensuring sufficient stock and targeted marketing.\n",
    "- **Manage Early November Slump:** Strategies like promotions or product launches could help counteract the decline in early November, smoothing the sales curve.\n",
    "\n",
    "#### 6. **Monthly Sales Trend (October 2020 to January 2021)**\n",
    "\n",
    "**Graph Description:**  \n",
    "This monthly trend graph shows sales starting at around 1.1 billion in early November, dipping to about 900 million by the end of November, and then steadily rising to 1.35 billion by the end of December.\n",
    "\n",
    "**Key Insights:**\n",
    "- **November Dip:** A noticeable dip in November is followed by a steady rise in December, peaking at 1.35 billion.\n",
    "- **Strong Recovery in December:** The recovery and growth in December indicate that the company successfully capitalized on the end-of-year sales period.\n",
    "\n",
    "**Recommendations:**\n",
    "- **Boost November Sales:** Address the November dip with special offers, early holiday promotions, or campaigns targeting key demographics.\n",
    "- **Capitalize on December:** The end-of-year period can be a major revenue generator. Plan early to optimize stock, pricing, and marketing efforts during this peak time.\n",
    "\n",
    "---\n",
    "\n",
    "#### **Conclusion & Final Recommendations:**\n",
    "\n",
    "- **State-Specific Growth Initiatives:** Focus on boosting sales in underperforming states (NT and TAS) through localized campaigns or product introductions aimed at specific demographic groups.\n",
    "- **Tailored Demographic Campaigns:** Women's and Seniors' segments show potential for growth. Develop tailored offerings and promotions to increase sales in these underperforming groups.\n",
    "- **Optimize Sales Periods:** Use the peak sales times (Morning and Afternoon) to maximize revenue through promotions. Consider strategies for evening sales to reduce the current dip.\n",
    "- **Seasonal Planning:** Prepare for seasonal trends, particularly focusing on December’s sales surge while managing the November dip. Anticipate similar trends for future years and plan marketing strategies accordingly.\n"
   ]
  },
  {
   "cell_type": "code",
   "execution_count": null,
   "id": "cb646e14-37fa-4a59-b936-1fe5d9732ee0",
   "metadata": {},
   "outputs": [],
   "source": []
  }
 ],
 "metadata": {
  "kernelspec": {
   "display_name": "Python (sales_report-env)",
   "language": "python",
   "name": "sales_report-env"
  },
  "language_info": {
   "codemirror_mode": {
    "name": "ipython",
    "version": 3
   },
   "file_extension": ".py",
   "mimetype": "text/x-python",
   "name": "python",
   "nbconvert_exporter": "python",
   "pygments_lexer": "ipython3",
   "version": "3.8.20"
  }
 },
 "nbformat": 4,
 "nbformat_minor": 5
}
